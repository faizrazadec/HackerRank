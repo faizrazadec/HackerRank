{
 "cells": [
  {
   "cell_type": "markdown",
   "id": "7592f811",
   "metadata": {},
   "source": [
    "# Vending Machine"
   ]
  },
  {
   "cell_type": "code",
   "execution_count": null,
   "id": "d9d8d5cb",
   "metadata": {},
   "outputs": [],
   "source": [
    "#!/bin/python3\n",
    "\n",
    "import math\n",
    "import os\n",
    "import random\n",
    "import re\n",
    "import sys\n",
    "\n",
    "\n",
    "\n",
    "class VendingMachine:\n",
    "    # Implement the VendingMachine here\n",
    "    def __init__ (self, num_items, item_price):\n",
    "        self.num_items = num_items\n",
    "        self.item_price = item_price\n",
    "        \n",
    "    def buy(self, req_items, money):\n",
    "        if req_items > self.num_items:\n",
    "            raise ValueError(\"Not enough items in the machine\")\n",
    "        cost = req_items * self.item_price\n",
    "        if money < cost:raise ValueError(\"Not enough coins\")\n",
    "        change = money-cost\n",
    "        self.num_items -= req_items\n",
    "        return change\n",
    "        \n",
    "        \n",
    "    pass\n",
    "\n",
    "if __name__ == '__main__':\n",
    "    fptr = open(os.environ['OUTPUT_PATH'], 'w')\n",
    "\n",
    "    num_items, item_coins = map(int, input().split())\n",
    "    machine = VendingMachine(num_items, item_coins)\n",
    "\n",
    "    n = int(input())\n",
    "    for _ in range(n):\n",
    "        num_items, num_coins = map(int, input().split())\n",
    "        try:\n",
    "            change = machine.buy(num_items, num_coins)\n",
    "            fptr.write(str(change) + \"\\n\")\n",
    "        except ValueError as e:\n",
    "            fptr.write(str(e) + \"\\n\")\n",
    "\n",
    "\n",
    "    fptr.close()"
   ]
  },
  {
   "cell_type": "markdown",
   "id": "e7ce26e2",
   "metadata": {},
   "source": [
    "# Average Function"
   ]
  },
  {
   "cell_type": "code",
   "execution_count": null,
   "id": "a78563af",
   "metadata": {},
   "outputs": [],
   "source": [
    "#!/bin/python3\n",
    "\n",
    "import math\n",
    "import os\n",
    "import random\n",
    "import re\n",
    "import sys\n",
    "\n",
    "\n",
    "\n",
    "# write your code here\n",
    "def avg(*numbers):\n",
    "    total = 0\n",
    "    for i in numbers:\n",
    "        total = total + i\n",
    "    return total/len(numbers)\n",
    "if __name__ == '__main__':\n",
    "    fptr = open(os.environ['OUTPUT_PATH'], 'w')\n",
    "    \n",
    "    nums = list(map(int, input().split()))\n",
    "    res = avg(*nums)\n",
    "    \n",
    "    fptr.write('%.2f' % res + '\\n')\n",
    "\n",
    "    fptr.close()"
   ]
  }
 ],
 "metadata": {
  "kernelspec": {
   "display_name": "Python 3 (ipykernel)",
   "language": "python",
   "name": "python3"
  },
  "language_info": {
   "codemirror_mode": {
    "name": "ipython",
    "version": 3
   },
   "file_extension": ".py",
   "mimetype": "text/x-python",
   "name": "python",
   "nbconvert_exporter": "python",
   "pygments_lexer": "ipython3",
   "version": "3.11.3"
  }
 },
 "nbformat": 4,
 "nbformat_minor": 5
}
