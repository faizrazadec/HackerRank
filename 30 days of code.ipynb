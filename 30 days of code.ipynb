{
 "cells": [
  {
   "cell_type": "markdown",
   "id": "4c76ef01",
   "metadata": {},
   "source": [
    "# Day-2"
   ]
  },
  {
   "cell_type": "markdown",
   "id": "8cac066d",
   "metadata": {},
   "source": [
    "Task\n",
    "Complete the code in the editor below. The variables i, d, and s are already declared and initialized for you. You must:\n",
    "1. Declare 3 variables: one of type int, one of type double, and one of type String.\n",
    "2. Read 3 lines of input from stdin (according to the sequence given in the Input Format section below) and initialize your 3 variables.\n",
    "3. Use the + operator to perform the following operations:\n",
    "1. Print the sum of i plus your int variable on a new line.\n",
    "2. Print the sum of & plus your double variable to a scale of one decimal place on a new line.\n",
    "3. Concatenate s with the string you read as input and print the result on a new line."
   ]
  },
  {
   "cell_type": "code",
   "execution_count": 2,
   "id": "425d3be0",
   "metadata": {},
   "outputs": [
    {
     "name": "stdout",
     "output_type": "stream",
     "text": [
      "1\n",
      "1.00\n",
      "faiz\n",
      "5\n",
      "5.0\n",
      "HackerRank faiz\n"
     ]
    }
   ],
   "source": [
    "i = 4\n",
    "d = 4.0\n",
    "s = 'HackerRank '\n",
    "# Declare second integer, double, and String variables.\n",
    "integer = int(input())\n",
    "double = float(input())\n",
    "string = str(input())\n",
    "# Read and save an integer, double, and String to your variables.\n",
    "\n",
    "# Print the sum of both integer variables on a new line.\n",
    "print(i + integer)\n",
    "# Print the sum of the double variables on a new line.\n",
    "print(d + double)\n",
    "# Concatenate and print the String variables on a new line\n",
    "print(s + string)\n",
    "# The 's' variable above should be printed first."
   ]
  },
  {
   "cell_type": "code",
   "execution_count": null,
   "id": "5a3810ca",
   "metadata": {},
   "outputs": [],
   "source": []
  }
 ],
 "metadata": {
  "kernelspec": {
   "display_name": "Python 3 (ipykernel)",
   "language": "python",
   "name": "python3"
  },
  "language_info": {
   "codemirror_mode": {
    "name": "ipython",
    "version": 3
   },
   "file_extension": ".py",
   "mimetype": "text/x-python",
   "name": "python",
   "nbconvert_exporter": "python",
   "pygments_lexer": "ipython3",
   "version": "3.11.3"
  }
 },
 "nbformat": 4,
 "nbformat_minor": 5
}
