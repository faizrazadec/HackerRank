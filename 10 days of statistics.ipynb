{
 "cells": [
  {
   "cell_type": "markdown",
   "id": "72c6d98d",
   "metadata": {},
   "source": [
    "# Day-0"
   ]
  },
  {
   "cell_type": "markdown",
   "id": "15285692",
   "metadata": {},
   "source": [
    "### Mean, Median, Mode\n",
    "- Given an array, X, of N integers, calculate and print the respective mean, median, and mode on separate lines. If your array contains more than one modal value, choose the numerically smallest one.\n",
    "Note: Other than the modal value (which will always be an integer), your answers should be in decimal form, rounded to a scale of 1 decimal place (i.e., 12.3, 7.0 format)."
   ]
  },
  {
   "cell_type": "code",
   "execution_count": null,
   "id": "4cc0e4d1",
   "metadata": {},
   "outputs": [],
   "source": [
    "# Enter your code here. Read input from STDIN. Print output to STDOUT\n",
    "N = int(input())\n",
    "a = input().split()\n",
    "x = [int(i) for i in a]\n",
    "\n",
    "#mean\n",
    "def mean(arr):\n",
    "    tot = sum(arr)\n",
    "    lent = len(arr)\n",
    "    me = tot/lent\n",
    "    return me\n",
    "mean(x)\n",
    "\n",
    "#median\n",
    "def median(arr1):\n",
    "    lent = len(arr1)\n",
    "    arr1.sort()\n",
    "    if lent % 2:\n",
    "        med1 = arr1[lent//2]\n",
    "        med2 = arr1[lent//2 -1]\n",
    "        med = (med1 + med2)/2\n",
    "    else:\n",
    "        med = arr1[lent//2]\n",
    "    print(med)\n",
    "median(x)\n",
    "\n",
    "#mode\n",
    "frequency = {i: x.count(i) for i in sorted(set(x))}\n",
    "max_fq = max(frequency.values())\n",
    "\n",
    "# If there are more than one mode,\n",
    "mod_list = [i for i,v in frequency.items() if v == max_fq]\n",
    "\n",
    "# ... accept the minimum value as mode\n",
    "mod = min(mod_list)\n",
    "print(mod)"
   ]
  },
  {
   "cell_type": "markdown",
   "id": "2f0918c2",
   "metadata": {},
   "source": [
    "### Weighted Mean\n",
    "- Given an array, X, of N integers and an array, W, representing the respective weights of X 's elements, calculate and print the weighted mean of X's elements. Your answer should be rounded to a scale of 1 decimal place (i.e., 12.3 format)."
   ]
  },
  {
   "cell_type": "code",
   "execution_count": 40,
   "id": "ff1d37b5",
   "metadata": {},
   "outputs": [
    {
     "name": "stdout",
     "output_type": "stream",
     "text": [
      "32.0\n"
     ]
    }
   ],
   "source": [
    "def weightedMean(X, W):\n",
    "    total_weighted_sum = sum(x * w for x, w in zip(X, W))\n",
    "    total_weights = sum(W)\n",
    "    weighted_mean = total_weighted_sum / total_weights\n",
    "    return weighted_mean\n",
    "\n",
    "if __name__ == '__main__':\n",
    "    n = int(input().strip())\n",
    "\n",
    "    vals = list(map(int, input().rstrip().split()))\n",
    "\n",
    "    weights = list(map(int, input().rstrip().split()))\n",
    "\n",
    "    result = weightedMean(vals, weights)\n",
    "    print(\"{:.1f}\".format(result))"
   ]
  },
  {
   "cell_type": "markdown",
   "id": "7cb6f5d2",
   "metadata": {},
   "source": [
    "# Day-1"
   ]
  },
  {
   "cell_type": "markdown",
   "id": "478425a5",
   "metadata": {},
   "source": [
    "### Quartiles\n",
    "- Given an array, ar, of n integers, calculate the respective first quartile ( Q_{1} ), second quartile (Q_{2}) and third quartile (Q3). It is guaranteed that Q_{1} Q_{2} and Q_{3} are integers."
   ]
  },
  {
   "cell_type": "code",
   "execution_count": null,
   "id": "7035265d",
   "metadata": {},
   "outputs": [],
   "source": [
    "#!/bin/python3\n",
    "\n",
    "import math\n",
    "import os\n",
    "import random\n",
    "import re\n",
    "import sys\n",
    "\n",
    "#\n",
    "# Complete the 'quartiles' function below.\n",
    "#\n",
    "# The function is expected to return an INTEGER_ARRAY.\n",
    "# The function accepts INTEGER_ARRAY arr as parameter.\n",
    "#\n",
    "from statistics import median\n",
    "def quartiles(arr):\n",
    "    # Write your code here\n",
    "    arr_sorted = sorted(arr, reverse=False)\n",
    "    Q1 = int(median(arr_sorted[ :n//2]))\n",
    "    Q2 = int(median(arr_sorted))\n",
    "    Q3 = int(median(arr_sorted[(n+1)//2: ]))\n",
    "    return Q1, Q2, Q3\n",
    "\n",
    "if __name__ == '__main__':\n",
    "    fptr = open(os.environ['OUTPUT_PATH'], 'w')\n",
    "\n",
    "    n = int(input().strip())\n",
    "\n",
    "    data = list(map(int, input().rstrip().split()))\n",
    "\n",
    "    res = quartiles(data)\n",
    "\n",
    "    fptr.write('\\n'.join(map(str, res)))\n",
    "    fptr.write('\\n')\n",
    "\n",
    "    fptr.close()\n"
   ]
  },
  {
   "cell_type": "markdown",
   "id": "cb47f2e1",
   "metadata": {},
   "source": [
    "### Interquartile Range\n",
    "- The interquartile range of an array is the difference between its first (\n",
    "Q1) and third (Q3) quartiles (i.e., Q3 — Q1).\n",
    "Given an array, values, of n integers and an array, freqs, representing the respective frequencies of values's elements, construct a data set, S , where each values[i] occurs at frequency freqs[i]. Then calculate and print S's interquartile range, rounded to a scale of 1 decimal place (i.e., 12.3 format).\n",
    "Tip: Be careful to not use integer division when averaging the middle two elements for a data set with an even number of elements, and be sure to not include the median in your upper and lower data sets."
   ]
  },
  {
   "cell_type": "code",
   "execution_count": 30,
   "id": "9481616d",
   "metadata": {},
   "outputs": [
    {
     "name": "stdout",
     "output_type": "stream",
     "text": [
      "[ 6 12  8 10 20 16  5  4  3  2  1  5]\n",
      "8\n"
     ]
    }
   ],
   "source": [
    "#!/bin/python3\n",
    "\n",
    "import math\n",
    "import os\n",
    "import random\n",
    "import re\n",
    "import sys\n",
    "\n",
    "#\n",
    "# Complete the 'interQuartile' function below.\n",
    "#\n",
    "# The function accepts following parameters:\n",
    "#  1. INTEGER_ARRAY values\n",
    "#  2. INTEGER_ARRAY freqs\n",
    "#\n",
    "from statistics import median\n",
    "def interQuartile(values, freqs):\n",
    "    # Print your answer to 1 decimal place within this function\n",
    "    arr = [val for val, freq in zip(values, freqs) for _ in range(freq)]\n",
    "    arr_sorted = sorted(arr, reverse=False)\n",
    "    Q1 = int(median(arr_sorted[ :len(arr)//2]))\n",
    "    Q2 = int(median(arr_sorted))\n",
    "    Q3 = int(median(arr_sorted[(len(arr)+1)//2: ]))\n",
    "    IQR = Q3 - Q1\n",
    "    f_IQR = float(IQR)\n",
    "    print(f_IQR)\n",
    "\n",
    "if __name__ == '__main__':\n",
    "    n = int(input().strip())\n",
    "\n",
    "    val = list(map(int, input().rstrip().split()))\n",
    "\n",
    "    freq = list(map(int, input().rstrip().split()))\n",
    "\n",
    "    interQuartile(val, freq)\n"
   ]
  },
  {
   "cell_type": "markdown",
   "id": "3d158d1e",
   "metadata": {},
   "source": [
    "### Standard Deviation\n",
    "- Given an array, arr, of n integers, calculate and print the standard\n",
    "deviation. Your answer should be in decimal form, rounded to a scale of\n",
    "1 decimal place (i.e., 12.3 format). An error margin of ±0.1 will be\n",
    "tolerated for the standard deviation."
   ]
  },
  {
   "cell_type": "code",
   "execution_count": null,
   "id": "491e7dce",
   "metadata": {},
   "outputs": [],
   "source": [
    "#!/bin/python3\n",
    "\n",
    "import math\n",
    "import os\n",
    "import random\n",
    "import re\n",
    "import sys\n",
    "\n",
    "#\n",
    "# Complete the 'stdDev' function below.\n",
    "#\n",
    "# The function accepts INTEGER_ARRAY arr as parameter.\n",
    "#\n",
    "def stdDev(arr):\n",
    "    # Print your answers to 1 decimal place within this function\n",
    "    mean = sum(arr)/len(arr)\n",
    "    variance = sum([((i - mean)**2) for i in arr])/len(arr)\n",
    "    std = variance**0.5\n",
    "    r_std = round(std,1)\n",
    "    print(r_std)\n",
    "    \n",
    "\n",
    "if __name__ == '__main__':\n",
    "    n = int(input().strip())\n",
    "\n",
    "    vals = list(map(int, input().rstrip().split()))\n",
    "\n",
    "    stdDev(vals)\n"
   ]
  },
  {
   "cell_type": "markdown",
   "id": "206a12b9",
   "metadata": {},
   "source": [
    "# Day-2"
   ]
  },
  {
   "cell_type": "markdown",
   "id": "2a39de79",
   "metadata": {},
   "source": [
    "### Basic Probability\n",
    "- In a single toss of 2 fair (evenly-weighted) six-sided dice, find the probability that their sum will be at most 9.\n"
   ]
  },
  {
   "cell_type": "markdown",
   "id": "d8fe334a",
   "metadata": {},
   "source": [
    "Probability = (Number of Favorable Outcomes) / (Total Possible Outcomes)\n",
    "Probability = 30 / 36\n",
    "Answer: 5/6"
   ]
  },
  {
   "cell_type": "markdown",
   "id": "0e074f2a",
   "metadata": {},
   "source": [
    "### More Dice\n",
    "- In a single toss of 2 fair (evenly-weighted) six-sided dice, find the probability that the values rolled by each die will be different and the two dice have a sum of 6."
   ]
  },
  {
   "cell_type": "markdown",
   "id": "36444a32",
   "metadata": {},
   "source": [
    "Probability = (Number of Favorable Outcomes) / (Total Possible Outcomes)\n",
    "Probability = 4 / 36\n",
    "Answer: 1/9"
   ]
  },
  {
   "cell_type": "markdown",
   "id": "c3cfabf6",
   "metadata": {},
   "source": [
    "### Compound Event Probability\n",
    "- There are 3 urns labeled X, Y, and Z.\n",
    "Urn X contains 4 red balls and 3 black balls.\n",
    "Urn Y contains 5 red balls and 4 black balls.\n",
    "Urn Z contains 4 red balls and 4 black balls.\n",
    "One ball is drawn from each of the 3 urns. \n",
    "- What is the probability that, of the 3 balls drawn, 2 are red and 1 is black?"
   ]
  },
  {
   "cell_type": "markdown",
   "id": "0c4613b7",
   "metadata": {},
   "source": [
    "Probability = (Number of Favorable Outcomes) / (Total Possible Outcomes)\n",
    "Probability = 51/126\n",
    "Answer: 17/42"
   ]
  },
  {
   "cell_type": "markdown",
   "id": "74a80a89",
   "metadata": {},
   "source": [
    "# Day-3"
   ]
  },
  {
   "cell_type": "markdown",
   "id": "8492bf59",
   "metadata": {},
   "source": [
    "### Conditional Probability\n",
    "- Suppose a family has 2 children, one of which is a boy. What is the probability that both children are boys?"
   ]
  },
  {
   "cell_type": "markdown",
   "id": "b7c03db8",
   "metadata": {},
   "source": [
    "Probability = 1 / 3"
   ]
  },
  {
   "cell_type": "markdown",
   "id": "ce596425",
   "metadata": {},
   "source": [
    "### Cards of the Same Suit\n",
    "- You draw 2 cards from a standard 52-card deck without replacing them. What is the probability that both cards are of the same suit?"
   ]
  },
  {
   "cell_type": "markdown",
   "id": "de9be939",
   "metadata": {},
   "source": [
    "Probability = 12/51"
   ]
  },
  {
   "cell_type": "markdown",
   "id": "705f1f6e",
   "metadata": {},
   "source": [
    "### Drawing Marbles\n",
    "- A bag contains 3 red marbles and 4 blue marbles. Then, 2 marbles are drawn from the bag, at random, without replacement. If the first marble drawn is red, what is the probability that the second marble is blue?"
   ]
  },
  {
   "cell_type": "markdown",
   "id": "98359b7b",
   "metadata": {},
   "source": [
    "Probability = 2/3"
   ]
  },
  {
   "cell_type": "markdown",
   "id": "ecb57f08",
   "metadata": {},
   "source": [
    "# Day-4"
   ]
  },
  {
   "cell_type": "markdown",
   "id": "a793bdf9",
   "metadata": {},
   "source": [
    "### Binomial Distribution I\n",
    "- The ratio of boys to girls for babies born in Russia is . If there is  child born per birth, what proportion of Russian families with exactly  children will have at least  boys?\n",
    "\n",
    "- Write a program to compute the answer using the above parameters. Then print your result, rounded to a scale of  decimal places (i.e.,  format)."
   ]
  },
  {
   "cell_type": "code",
   "execution_count": 1,
   "id": "c7a56ebe",
   "metadata": {},
   "outputs": [
    {
     "name": "stdout",
     "output_type": "stream",
     "text": [
      "0.696\n"
     ]
    }
   ],
   "source": [
    "# Enter your code here. Read input from STDIN. Print output to STDOUT\n",
    "import math\n",
    "def Binomial_Distribution_I(n, p, x):\n",
    "    b = (math.factorial(n)/(math.factorial(x)*math.factorial(n-x)))*(p**x)*((1-p)**(n-x))\n",
    "    return(b)\n",
    "\n",
    "boy = 1.09\n",
    "girl = 1\n",
    "n = 6\n",
    "p = boy/(boy+girl)\n",
    "b = 0\n",
    "for x in range(3,7):\n",
    "    b += Binomial_Distribution_I(n, p, x)   \n",
    "print(\"%.3f\" %b)"
   ]
  },
  {
   "cell_type": "markdown",
   "id": "2db1787b",
   "metadata": {},
   "source": [
    "### Binomial Distribution II\n",
    "- A manufacturer of metal pistons finds that, on average,  of the pistons they manufacture are rejected because they are incorrectly sized. What is the probability that a batch of  pistons will contain:\n",
    "\n",
    "- No more than  rejects?\n",
    "- At least  rejects?"
   ]
  },
  {
   "cell_type": "code",
   "execution_count": 4,
   "id": "4f1cff53",
   "metadata": {},
   "outputs": [
    {
     "name": "stdout",
     "output_type": "stream",
     "text": [
      "0.891\n",
      "0.342\n"
     ]
    }
   ],
   "source": [
    "import math\n",
    "\n",
    "def Binomial_Distribution_II(n, p, x):\n",
    "    b = (math.factorial(n)/(math.factorial(x)*math.factorial(n-x)))*(p**x)*((1-p)**(n-x))\n",
    "    return(b)\n",
    "\n",
    "reject_percent = 12\n",
    "n = 10\n",
    "p = reject_percent/100\n",
    "b = 0\n",
    "for i in range(0,3): # x=0,1,2\n",
    "    b += Binomial_Distribution_II(n, p, i)   \n",
    "print(\"%.3f\" %b)\n",
    "print(round(sum([Binomial_Distribution_II(n, p, i) for i in range(2, 11)]), 3))"
   ]
  },
  {
   "cell_type": "markdown",
   "id": "016904a9",
   "metadata": {},
   "source": [
    "### Geometric Distribution I\n",
    "- The probability that a machine produces a defective product is . What is the probability that the  defect occurs the  item produced?"
   ]
  },
  {
   "cell_type": "code",
   "execution_count": 1,
   "id": "5b385a63",
   "metadata": {},
   "outputs": [
    {
     "name": "stdout",
     "output_type": "stream",
     "text": [
      "0.148\n"
     ]
    }
   ],
   "source": [
    "def Geometric_Distribution_I(p, x):\n",
    "    g = (1-p)**(x-1) * p\n",
    "    return(g)\n",
    "\n",
    "num = 1\n",
    "denum = 3\n",
    "x = 5\n",
    "p = num/denum\n",
    "g = Geometric_Distribution_I(p, x)  \n",
    "print(\"%.3f\" %g)"
   ]
  },
  {
   "cell_type": "markdown",
   "id": "8467eca5",
   "metadata": {},
   "source": [
    "### Geometric Distribution II\n",
    "- The probability that a machine produces a defective product is . What is the probability that the  defect is found during the first  inspections?"
   ]
  },
  {
   "cell_type": "code",
   "execution_count": 4,
   "id": "4486e9f7",
   "metadata": {},
   "outputs": [
    {
     "name": "stdout",
     "output_type": "stream",
     "text": [
      "0.868\n"
     ]
    }
   ],
   "source": [
    "def Geometric_Distribution_II(p, x):\n",
    "    g = (1-p)**(x-1) * p\n",
    "    return(g)\n",
    "\n",
    "num = 1\n",
    "denum = 3\n",
    "x = 5\n",
    "p = num/denum\n",
    "g = 0\n",
    "for i in range(1,6): # i=1,2,3,4,5\n",
    "    g += Geometric_Distribution_II(p, i)   \n",
    "print(\"%.3f\" %g)"
   ]
  },
  {
   "cell_type": "markdown",
   "id": "2ce3a91f",
   "metadata": {},
   "source": [
    "# Day-5"
   ]
  },
  {
   "cell_type": "markdown",
   "id": "6ed58bf3",
   "metadata": {},
   "source": [
    "### Poisson Distribution I\n",
    "- A random variable, X, follows Poisson distribution with mean of 2.5. Find the probability with which the random variable X is equal to 5."
   ]
  },
  {
   "cell_type": "code",
   "execution_count": 5,
   "id": "f841c434",
   "metadata": {},
   "outputs": [
    {
     "name": "stdout",
     "output_type": "stream",
     "text": [
      "0.067\n"
     ]
    }
   ],
   "source": [
    "from math import factorial, exp\n",
    "\n",
    "miu = 2.5\n",
    "x = 5\n",
    "Poisson_Distribution_I = ((miu ** x) * exp(-miu)) / factorial(x)\n",
    "print(\"%.3f\" % Poisson_Distribution_I)"
   ]
  },
  {
   "cell_type": "markdown",
   "id": "0fed0fb5",
   "metadata": {},
   "source": [
    "### Day 5: Poisson Distribution II\n",
    "- The manager of a industrial plant is planning to buy a machine of either type A or type B. For each day's operation:\n",
    "• The number of repairs, X, that machine A needs is a Poisson random variable with mean 0.88. The daily cost of operating A is\n",
    "CA = 160+40X2.\n",
    "The number of repairs, Y, that machine B needs is a Poisson random variable with mean 1.55. The daily cost of operating B is\n",
    "CB = 128 + 40Y2.\n",
    "Assume that the repairs take a negligible amount of time and the machines are maintained nightly to ensure that they operate like new at the start of each day. Find and print the expected daily cost for each machine."
   ]
  },
  {
   "cell_type": "code",
   "execution_count": 7,
   "id": "a17dbf88",
   "metadata": {},
   "outputs": [
    {
     "name": "stdout",
     "output_type": "stream",
     "text": [
      "226.176\n",
      "286.1\n"
     ]
    }
   ],
   "source": [
    "mu_A = 0.88\n",
    "mu_B = 1.55\n",
    "\n",
    "cost_A = 160 + 40*(mu_A + mu_A**2)\n",
    "print(round(cost_A, 3))\n",
    "cost_B = 128 + 40*(mu_B + mu_B**2)\n",
    "print(round(cost_B, 3))"
   ]
  },
  {
   "cell_type": "markdown",
   "id": "07750eb7",
   "metadata": {},
   "source": [
    "### Normal Distribution I\n",
    "- In a certain plant, the time taken to assemble a car is a random variable,\n",
    "X, having a normal distribution with a mean of 20 hours and a\n",
    "standard deviation of 2 hours. What is the probability that a car can be\n",
    "assembled at this plant in:\n",
    "1. Less than 19.5 hours?\n",
    "2. Between 20 and 22 hours?"
   ]
  },
  {
   "cell_type": "code",
   "execution_count": 3,
   "id": "a4771412",
   "metadata": {},
   "outputs": [
    {
     "name": "stdout",
     "output_type": "stream",
     "text": [
      "0.401\n",
      "0.341\n"
     ]
    }
   ],
   "source": [
    "import math\n",
    "\n",
    "mu = 20\n",
    "stdev = 2\n",
    "limit = 19.5\n",
    "limit1 = 20\n",
    "limit2 = 22\n",
    "\n",
    "def Normal_Distribution_I(mu, stdev, x):\n",
    "    return 0.5 + 0.5*math.erf((x-mu)/(stdev * 2**0.5))\n",
    "\n",
    "print( '{:.3f}'.format(Normal_Distribution_I(mu, stdev, limit)) )\n",
    "print( '{:.3f}'.format(Normal_Distribution_I(mu, stdev, limit2) - Normal_Distribution_I(mu, stdev, limit1)))"
   ]
  },
  {
   "cell_type": "markdown",
   "id": "fdc52b5f",
   "metadata": {},
   "source": [
    "### Normal Distribution II\n",
    "- The final grades for a Physics exam taken by a large group of students\n",
    "have a mean of µ = 70 and a standard deviation of σ = 10. If we can\n",
    "approximate the distribution of these grades by a normal distribution,\n",
    "what percentage of the students:\n",
    "1. Scored higher than 80 (i.e., have a grade > 80)?\n",
    "2. Passed the test (i.e., have a grade > 60)?\n",
    "3. Failed the test (i.e., have a grade <60)?\n",
    "Find and print the answer to each question on a new line, rounded to a\n",
    "scale of 2 decimal places."
   ]
  },
  {
   "cell_type": "code",
   "execution_count": 1,
   "id": "391184ae",
   "metadata": {},
   "outputs": [
    {
     "name": "stdout",
     "output_type": "stream",
     "text": [
      "15.87\n",
      "84.13\n",
      "15.87\n"
     ]
    }
   ],
   "source": [
    "import math\n",
    "\n",
    "mu = 70\n",
    "stdev = 10\n",
    "limit1 = 80\n",
    "limit2 = 60\n",
    "\n",
    "def Normal_Distribution_II(miu, stdev, x):\n",
    "    return 0.5 + 0.5*math.erf((x-miu)/(stdev * 2**0.5))\n",
    "\n",
    "print( '%.2f' %((1 - Normal_Distribution_II(mu, stdev, limit1)) *100) )\n",
    "print( '%.2f' %((1 - Normal_Distribution_II(mu, stdev, limit2)) *100) )\n",
    "print( '%.2f' %(Normal_Distribution_II(mu, stdev, limit2) *100) )"
   ]
  },
  {
   "cell_type": "markdown",
   "id": "c2d74579",
   "metadata": {},
   "source": [
    "# Day-6"
   ]
  },
  {
   "cell_type": "markdown",
   "id": "5ea738de",
   "metadata": {},
   "source": [
    "### The Central Limit Theorem I\n",
    "- A large elevator can transport a maximum of 9800 pounds. Suppose a load of cargo containing 49 boxes must be transported via the elevator. The box weight of this type of cargo follows a distribution with a mean of mu = 205 pounds and a standard deviation of sigma = 15 pounds. Based on this information, what is the probability that all 49 boxes can be safely loaded into the freight elevator and transported?"
   ]
  },
  {
   "cell_type": "code",
   "execution_count": 2,
   "id": "4b8ab3d3",
   "metadata": {},
   "outputs": [
    {
     "name": "stdout",
     "output_type": "stream",
     "text": [
      "0.0098\n"
     ]
    }
   ],
   "source": [
    "import math\n",
    "\n",
    "def The_Central_Limit_Theorem_I(mu, stdev, x):\n",
    "    return 0.5 + 0.5*math.erf((x-mu)/(stdev * 2**0.5))\n",
    "\n",
    "weight_limit = 9800\n",
    "n = 49\n",
    "mu = 205\n",
    "stdev = 15\n",
    "\n",
    "# By Central Limit Thereom, for large n, \n",
    "# S ~ N(miu_S, stdev_S) approximately\n",
    "mu_S = n*mu\n",
    "stdev_S = (n**0.5)*stdev\n",
    "\n",
    "# To find P(S < weight_limit)\n",
    "print( '%.4f' %The_Central_Limit_Theorem_I(mu_S, stdev_S, weight_limit) )"
   ]
  },
  {
   "cell_type": "markdown",
   "id": "a002c001",
   "metadata": {},
   "source": [
    "### The Central Limit Theorem II\n",
    "- The number of tickets purchased by each student for the University X vs. University Y football game follows a distribution that has a mean of\n",
    "µ = 2.4 and a standard deviation of σ = 2.0.\n",
    "A few hours before the game starts, 100 eager students line up to purchase last-minute tickets. If there are only 250 tickets left, what is the probability that all 100 students will be able to purchase tickets?"
   ]
  },
  {
   "cell_type": "code",
   "execution_count": 2,
   "id": "ec79add9",
   "metadata": {},
   "outputs": [
    {
     "name": "stdout",
     "output_type": "stream",
     "text": [
      "0.6915\n"
     ]
    }
   ],
   "source": [
    "import math\n",
    "\n",
    "def The_Central_Limit_Theorem_II(mu, stdev, x):\n",
    "    return 0.5 + 0.5*math.erf((x-mu)/(stdev * 2**0.5))\n",
    "\n",
    "ticket_limit = 250\n",
    "n = 100\n",
    "mu = 2.4\n",
    "stdev = 2.0\n",
    "\n",
    "mu_S = n*mu\n",
    "stdev_S = (n**0.5)*stdev\n",
    "\n",
    "print( '%.4f' %The_Central_Limit_Theorem_II(mu_S, stdev_S, ticket_limit))"
   ]
  },
  {
   "cell_type": "markdown",
   "id": "235b50c7",
   "metadata": {},
   "source": [
    "### The Central Limit Theorem III\n",
    "- You have a sample of 100 values from a population with mean\n",
    "mu = 500 and with standard deviation sigma = 80 Compute the interval that covers the middle 95% of the distribution of the sample mean; in other words, compute A and B such that P(A < x < B) = 0.95\n",
    "Use the value of z = 1.96 Note that z is the z-score."
   ]
  },
  {
   "cell_type": "code",
   "execution_count": 5,
   "id": "66d3a969",
   "metadata": {},
   "outputs": [
    {
     "name": "stdout",
     "output_type": "stream",
     "text": [
      "484.32\n",
      "515.68\n"
     ]
    }
   ],
   "source": [
    "n = 100\n",
    "mu = 500\n",
    "stdev = 80\n",
    "prob = 0.95\n",
    "z = 1.96\n",
    "\n",
    "s = stdev/n**0.5\n",
    "print('%.2f' %(mu - z*s))\n",
    "print('%.2f' %(mu + z*s))"
   ]
  },
  {
   "cell_type": "markdown",
   "id": "4f3e9588",
   "metadata": {},
   "source": [
    "# Day-7"
   ]
  },
  {
   "cell_type": "markdown",
   "id": "3a9fbd54",
   "metadata": {},
   "source": [
    "### Pearson Correlation Coefficient I\n",
    "- Given two n-element data sets, X and Y, calculate the value of the\n",
    "Pearson correlation coefficient."
   ]
  },
  {
   "cell_type": "code",
   "execution_count": null,
   "id": "ee3edd72",
   "metadata": {},
   "outputs": [],
   "source": [
    "# Enter your code here. Read input from STDIN. Print output to STDOUT\n",
    "n = int(input())\n",
    "X = list(map(float,input().strip().split()))\n",
    "Y = list(map(float,input().strip().split()))\n",
    "\n",
    "mu_x = sum(X) / n\n",
    "mu_y = sum(Y) / n\n",
    "\n",
    "stdev_x = (sum([(i - mu_x)**2 for i in X]) / n)**0.5\n",
    "stdev_y = (sum([(i - mu_y)**2 for i in Y]) / n)**0.5\n",
    "\n",
    "covariance = sum([(X[i] - mu_x) * (Y[i] -mu_y) for i in range(n)])\n",
    "Pearson_Correlation_Coefficient_I = covariance / (n * stdev_x * stdev_y)\n",
    "print(round(Pearson_Correlation_Coefficient_I,3))"
   ]
  },
  {
   "cell_type": "markdown",
   "id": "e12a109a",
   "metadata": {},
   "source": [
    "### Spearman's Rank Correlation Coefficient\n",
    "- Given two n-element data sets, X and Y, calculate the value of\n",
    "Spearman's rank correlation coefficient"
   ]
  },
  {
   "cell_type": "code",
   "execution_count": 9,
   "id": "d83e1a64",
   "metadata": {},
   "outputs": [
    {
     "name": "stdout",
     "output_type": "stream",
     "text": [
      "0.903\n"
     ]
    }
   ],
   "source": [
    "# Enter your code here. Read input from STDIN. Print output to STDOUT\n",
    "def get_rank(X):\n",
    "    x_rank = dict((x, i+1) for i, x in enumerate(sorted(set(X))))\n",
    "    return [x_rank[x] for x in X]\n",
    "    \n",
    "n = int(input())\n",
    "X = list(map(float, input().split()))\n",
    "Y = list(map(float, input().split()))\n",
    "\n",
    "rx = get_rank(X)\n",
    "ry = get_rank(Y)\n",
    "\n",
    "d = [(rx[i] -ry[i])**2 for i in range(n)]\n",
    "r_s = 1 - (6 * sum(d)) / (n * (n*n - 1))\n",
    "print('%.3f' % r_s)"
   ]
  },
  {
   "cell_type": "markdown",
   "id": "62988f11",
   "metadata": {},
   "source": [
    "# Day-8"
   ]
  },
  {
   "cell_type": "markdown",
   "id": "276b9db0",
   "metadata": {},
   "source": [
    "### Least Square Regression Line\n",
    "- A group of five students enrolls in Statistics immediately after taking a\n",
    "Math aptitude test. Each student's Math aptitude test score, x, and\n",
    "Statistics course grade, y, can be expressed as the following list of\n",
    "- (x, y) points:\n",
    "1. (95, 85)\n",
    "2. (85,95)\n",
    "3. (80, 70)\n",
    "4. (70,65)\n",
    "5. (60, 70)\n",
    "- If a student scored an 80 on the Math aptitude test, what grade would\n",
    "we expect them to achieve in Statistics? Determine the equation of the\n",
    "best-fit line using the least squares method, then compute and print the\n",
    "value of y when x = 80"
   ]
  },
  {
   "cell_type": "code",
   "execution_count": 1,
   "id": "ab58b705",
   "metadata": {},
   "outputs": [
    {
     "name": "stdout",
     "output_type": "stream",
     "text": [
      "78.288\n"
     ]
    }
   ],
   "source": [
    "# Enter your code here. Read input from STDIN. Print output to STDOUT\n",
    "x = [95, 85, 80, 70, 60]\n",
    "y = [85, 95, 70, 65, 70]\n",
    "n = len(x)\n",
    "x_sum = sum(x)\n",
    "x_sum_sqr = x_sum**2\n",
    "x_sqr_sum = sum([x_i**2 for x_i in x])\n",
    "y_sum = sum(y)\n",
    "sum_prod_xy = 0\n",
    "for x_i,y_i in zip(x,y):\n",
    "    sum_prod_xy += (x_i*y_i)\n",
    "b = (n*sum_prod_xy - x_sum*y_sum) / (n*x_sqr_sum - x_sum_sqr)\n",
    "y_mean = y_sum/n\n",
    "x_mean = x_sum/n\n",
    "a = y_mean - b*x_mean\n",
    "\n",
    "x_test = 80\n",
    "y_test = a + b * x_test\n",
    "print(\"%.3f\" %y_test) "
   ]
  },
  {
   "cell_type": "markdown",
   "id": "7efc8558",
   "metadata": {},
   "source": [
    "### Create Pearson Correlation Coefficient II\n",
    "- The regression line of y on x is 3x + 4y + 8 = 0, and the regression line of x on y is 4x + 3y + 7 = 0. \n",
    "What is the value of the Pearson correlation coefficient?"
   ]
  },
  {
   "cell_type": "markdown",
   "id": "6a6732a3",
   "metadata": {},
   "source": [
    "Ans : -3/4"
   ]
  },
  {
   "cell_type": "markdown",
   "id": "22c89dbb",
   "metadata": {},
   "source": [
    "# Day-9"
   ]
  },
  {
   "cell_type": "code",
   "execution_count": null,
   "id": "46bd6c10",
   "metadata": {},
   "outputs": [],
   "source": []
  }
 ],
 "metadata": {
  "kernelspec": {
   "display_name": "Python 3 (ipykernel)",
   "language": "python",
   "name": "python3"
  },
  "language_info": {
   "codemirror_mode": {
    "name": "ipython",
    "version": 3
   },
   "file_extension": ".py",
   "mimetype": "text/x-python",
   "name": "python",
   "nbconvert_exporter": "python",
   "pygments_lexer": "ipython3",
   "version": "3.11.3"
  }
 },
 "nbformat": 4,
 "nbformat_minor": 5
}
